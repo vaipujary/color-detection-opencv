{
 "cells": [
  {
   "cell_type": "markdown",
   "id": "7448f793",
   "metadata": {},
   "source": [
    "# Color Detection using OpenCV"
   ]
  },
  {
   "cell_type": "code",
   "execution_count": 1,
   "id": "6f4c3b3b",
   "metadata": {},
   "outputs": [],
   "source": [
    "import cv2\n",
    "import pandas as pd"
   ]
  },
  {
   "cell_type": "code",
   "execution_count": 2,
   "id": "2c77b03a",
   "metadata": {},
   "outputs": [],
   "source": [
    "imagePath= 'sunset.jpg'\n",
    "img= cv2.imread(imagePath)"
   ]
  },
  {
   "cell_type": "code",
   "execution_count": 3,
   "id": "b34a15bc",
   "metadata": {},
   "outputs": [],
   "source": [
    "clicked= False\n",
    "r = g = b = x_position = y_position = 0"
   ]
  },
  {
   "cell_type": "code",
   "execution_count": 4,
   "id": "5684d288",
   "metadata": {},
   "outputs": [],
   "source": [
    "index= [\"color\", \"color_name\", \"hex\", \"R\", \"G\", \"B\"]\n",
    "csv= pd.read_csv('colors.csv', names= index, header= None)"
   ]
  },
  {
   "cell_type": "code",
   "execution_count": 5,
   "id": "31cb3d7b",
   "metadata": {},
   "outputs": [],
   "source": [
    "def color_name(R,G,B):\n",
    "    minimum= 10000\n",
    "    for i in range(len(csv)):\n",
    "        d= abs(R-int(csv.loc[i,\"R\"]))+abs(G-int(csv.loc[i,\"G\"]))+abs(B-int(csv.loc[i,\"B\"]))\n",
    "        if d<=minimum:\n",
    "            minimum=d\n",
    "            colorname= csv.loc[i, \"color_name\"]\n",
    "    return colorname"
   ]
  },
  {
   "cell_type": "code",
   "execution_count": 6,
   "id": "ad0847ce",
   "metadata": {},
   "outputs": [],
   "source": [
    "def draw_function(event, x, y, flags, param):\n",
    "    if event == cv2.EVENT_LBUTTONDBLCLK:\n",
    "        global b, g, r, x_position, y_position, clicked\n",
    "        clicked= True\n",
    "        x_position= x\n",
    "        y_position=y\n",
    "        b, g, r= img[y,x]\n",
    "        b= int(b)\n",
    "        g= int(g)\n",
    "        r= int(r)"
   ]
  },
  {
   "cell_type": "code",
   "execution_count": 7,
   "id": "f74aa62b",
   "metadata": {},
   "outputs": [],
   "source": [
    "cv2.namedWindow('image')\n",
    "cv2.setMouseCallback('image', draw_function)\n",
    "\n",
    "while True:\n",
    "    cv2.imshow('image', img)\n",
    "    if clicked:\n",
    "        cv2.rectangle(img, (20,20), (750,60), (b, g, r), -1)\n",
    "        \n",
    "        text= color_name(r,g,b)+ 'R='+ str(r)+ 'G='+str(g)+ 'B='+ str(b)\n",
    "        \n",
    "        cv2.putText(img, text, (50,50), 2, 0.8, (255,255,255), 2, cv2.LINE_AA)\n",
    "        \n",
    "        if r+g+b>= 600:\n",
    "            cv2.putText(img, text, (50,50), 2, 0.8, (0,0,0), 2, cv2.LINE_AA)\n",
    "            \n",
    "        clicked= False\n",
    "        \n",
    "    key= cv2.waitKey(1) & 0xFF\n",
    "    if key == ord(\"q\"):\n",
    "        break\n",
    "cv2.destroyAllWindows()"
   ]
  }
 ],
 "metadata": {
  "kernelspec": {
   "display_name": "Python 3 (ipykernel)",
   "language": "python",
   "name": "python3"
  },
  "language_info": {
   "codemirror_mode": {
    "name": "ipython",
    "version": 3
   },
   "file_extension": ".py",
   "mimetype": "text/x-python",
   "name": "python",
   "nbconvert_exporter": "python",
   "pygments_lexer": "ipython3",
   "version": "3.9.6"
  }
 },
 "nbformat": 4,
 "nbformat_minor": 5
}
